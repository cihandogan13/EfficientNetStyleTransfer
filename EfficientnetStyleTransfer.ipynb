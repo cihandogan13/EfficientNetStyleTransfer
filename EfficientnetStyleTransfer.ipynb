{
  "nbformat": 4,
  "nbformat_minor": 0,
  "metadata": {
    "colab": {
      "name": "EfficientnetStyleTransfer.ipynb",
      "provenance": [],
      "collapsed_sections": [],
      "authorship_tag": "ABX9TyNJLKpXQr9ZGIqBNWEHTR8b",
      "include_colab_link": true
    },
    "kernelspec": {
      "name": "python3",
      "display_name": "Python 3"
    },
    "accelerator": "GPU"
  },
  "cells": [
    {
      "cell_type": "markdown",
      "metadata": {
        "id": "view-in-github",
        "colab_type": "text"
      },
      "source": [
        "<a href=\"https://colab.research.google.com/github/cihandogan13/EfficientNetStyleTransfer/blob/master/EfficientnetStyleTransfer.ipynb\" target=\"_parent\"><img src=\"https://colab.research.google.com/assets/colab-badge.svg\" alt=\"Open In Colab\"/></a>"
      ]
    },
    {
      "cell_type": "markdown",
      "metadata": {
        "id": "wH6wTIIb9qu-",
        "colab_type": "text"
      },
      "source": [
        "**Setup**"
      ]
    },
    {
      "cell_type": "code",
      "metadata": {
        "id": "1Xbrn3ezf1gx",
        "colab_type": "code",
        "colab": {}
      },
      "source": [
        "import tensorflow as tf\n",
        "import IPython.display as display\n",
        "\n",
        "import matplotlib.pyplot as plt\n",
        "import matplotlib as mpl\n",
        "mpl.rcParams['figure.figsize'] = (12,12)\n",
        "mpl.rcParams['axes.grid'] = False\n",
        "\n",
        "import numpy as np\n",
        "import PIL.Image\n",
        "import time\n",
        "import functools"
      ],
      "execution_count": null,
      "outputs": []
    },
    {
      "cell_type": "markdown",
      "metadata": {
        "id": "Rp08ttSq90YJ",
        "colab_type": "text"
      },
      "source": [
        "**Functions**"
      ]
    },
    {
      "cell_type": "code",
      "metadata": {
        "id": "ncg9dY69gVvC",
        "colab_type": "code",
        "colab": {}
      },
      "source": [
        "def tensor_to_image(tensor):\n",
        "  tensor = tensor*255\n",
        "  tensor = np.array(tensor, dtype=np.uint8)\n",
        "  if np.ndim(tensor)>3:\n",
        "    assert tensor.shape[0] == 1\n",
        "    tensor = tensor[0]\n",
        "  return PIL.Image.fromarray(tensor)\n",
        "\n",
        "def load_img(path_to_img):\n",
        "  max_dim = 1024\n",
        "  img = tf.io.read_file(path_to_img)\n",
        "  img = tf.image.decode_image(img, channels=3)\n",
        "  img = tf.image.convert_image_dtype(img, tf.float32)\n",
        "\n",
        "  shape = tf.cast(tf.shape(img)[:-1], tf.float32)\n",
        "  long_dim = max(shape)\n",
        "  scale = max_dim / long_dim\n",
        "\n",
        "  new_shape = tf.cast(shape * scale, tf.int32)\n",
        "\n",
        "  img = tf.image.resize(img, new_shape)\n",
        "  img = img[tf.newaxis, :]\n",
        "  return img\n",
        "\n",
        "def imshow(image, title=None):\n",
        "  if len(image.shape) > 3:\n",
        "    image = tf.squeeze(image, axis=0)\n",
        "\n",
        "  plt.imshow(image)\n",
        "  if title:\n",
        "    plt.title(title)\n",
        "\n",
        "\n",
        "def gram_matrix(input_tensor):\n",
        "  result = tf.linalg.einsum('bijc,bijd->bcd', input_tensor, input_tensor)\n",
        "  input_shape = tf.shape(input_tensor)\n",
        "  num_locations = tf.cast(input_shape[1]*input_shape[2], tf.float32)\n",
        "  return result/(num_locations)\n",
        "\n",
        "def clip_0_1(image):\n",
        "  return tf.clip_by_value(image, clip_value_min=0.0, clip_value_max=1.0)\n",
        "  "
      ],
      "execution_count": null,
      "outputs": []
    },
    {
      "cell_type": "markdown",
      "metadata": {
        "id": "aAQXWwKA945v",
        "colab_type": "text"
      },
      "source": [
        "**Image Files**"
      ]
    },
    {
      "cell_type": "code",
      "metadata": {
        "id": "g-kuMuxpgV-j",
        "colab_type": "code",
        "colab": {}
      },
      "source": [
        "content_path = tf.keras.utils.get_file('YellowLabradorLooking_new.jpg', 'https://storage.googleapis.com/download.tensorflow.org/example_images/YellowLabradorLooking_new.jpg')\n",
        "\n",
        "# https://commons.wikimedia.org/wiki/File:Vassily_Kandinsky,_1913_-_Composition_7.jpg\n",
        "style_path = tf.keras.utils.get_file('kandinsky5.jpg','https://storage.googleapis.com/download.tensorflow.org/example_images/Vassily_Kandinsky%2C_1913_-_Composition_7.jpg')\n",
        "\n",
        "content_image = load_img(content_path)\n",
        "style_image = load_img(style_path)\n",
        "\n",
        "plt.subplot(1, 2, 1)\n",
        "imshow(content_image, 'Content Image')\n",
        "\n",
        "plt.subplot(1, 2, 2)\n",
        "imshow(style_image, 'Style Image')"
      ],
      "execution_count": null,
      "outputs": []
    },
    {
      "cell_type": "markdown",
      "metadata": {
        "id": "T8_kI_h_9_jr",
        "colab_type": "text"
      },
      "source": [
        "**Layers**"
      ]
    },
    {
      "cell_type": "code",
      "metadata": {
        "id": "SyipnA-3gWFk",
        "colab_type": "code",
        "colab": {}
      },
      "source": [
        "content_layers = [\"block7a_activation\",\n",
        "                  \"block7b_activation\",\n",
        "                  \"block7c_activation\",\n",
        "                  \"block7d_activation\"] \n",
        "\n",
        "style_layers = [\"block1a_activation\",\n",
        "                  \"block1b_activation\",\n",
        "                  \"block1c_activation\",\n",
        "                  \"block1d_activation\",\n",
        "                  \"block2a_activation\",\n",
        "                  \"block2b_activation\",\n",
        "                  \"block2c_activation\",\n",
        "                  \"block2d_activation\",\n",
        "                  \"block2e_activation\",\n",
        "                  \"block2f_activation\",\n",
        "                  \"block2g_activation\",\n",
        "                  \"block3a_activation\",\n",
        "                  \"block3b_activation\",\n",
        "                  \"block3c_activation\",\n",
        "                  \"block3d_activation\",\n",
        "                  \"block3e_activation\",\n",
        "                  \"block3f_activation\",\n",
        "                  \"block3g_activation\",\n",
        "                  \"block4a_activation\",\n",
        "                  \"block4b_activation\",\n",
        "                  \"block4c_activation\",\n",
        "                  \"block4d_activation\",\n",
        "                  \"block4e_activation\",\n",
        "                  \"block4f_activation\",\n",
        "                  \"block4g_activation\",\n",
        "                  \"block4h_activation\",\n",
        "                  \"block4i_activation\",\n",
        "                  \"block4j_activation\",\n",
        "                  \"block5a_activation\",\n",
        "                  \"block5b_activation\",\n",
        "                  \"block5c_activation\",\n",
        "                  \"block5d_activation\",\n",
        "                  \"block5e_activation\",\n",
        "                  \"block5f_activation\",\n",
        "                  \"block5g_activation\",\n",
        "                  \"block5h_activation\",\n",
        "                  \"block5i_activation\",\n",
        "                  \"block5j_activation\",\n",
        "                  \"block6a_activation\",\n",
        "                  \"block6b_activation\",\n",
        "                  \"block6c_activation\",\n",
        "                  \"block6d_activation\",\n",
        "                  \"block6e_activation\",\n",
        "                  \"block6f_activation\",\n",
        "                  \"block6g_activation\",\n",
        "                  \"block6h_activation\",\n",
        "                  \"block6i_activation\",\n",
        "                  \"block6j_activation\",\n",
        "                  \"block6k_activation\",\n",
        "                  \"block6l_activation\",\n",
        "                  \"block6m_activation\"]\n",
        "\n",
        "num_content_layers = len(content_layers)\n",
        "num_style_layers = len(style_layers)\n",
        "\n",
        "\n",
        "def efnet_layers(layer_names):\n",
        "  \"\"\" Creates a vgg model that returns a list of intermediate output values.\"\"\"\n",
        "  # Load our model. Load pretrained EfficientNetB7, trained on imagenet data\n",
        "  efnet = tf.keras.applications.EfficientNetB7(include_top=False, weights='imagenet')\n",
        "  efnet.trainable = False\n",
        "  \n",
        "  outputs = [efnet.get_layer(name).output for name in layer_names]\n",
        "\n",
        "  model = tf.keras.Model([efnet.input], outputs)\n",
        "  return model"
      ],
      "execution_count": null,
      "outputs": []
    },
    {
      "cell_type": "markdown",
      "metadata": {
        "id": "LI6D6dg6-Cm4",
        "colab_type": "text"
      },
      "source": [
        "**Model Class**"
      ]
    },
    {
      "cell_type": "code",
      "metadata": {
        "colab_type": "code",
        "id": "Sr6QALY-I1ja",
        "colab": {}
      },
      "source": [
        "class StyleContentModel(tf.keras.models.Model):\n",
        "  def __init__(self, style_layers, content_layers):\n",
        "    super(StyleContentModel, self).__init__()\n",
        "    self.efnet =  efnet_layers(style_layers + content_layers)\n",
        "    self.style_layers = style_layers\n",
        "    self.content_layers = content_layers\n",
        "    self.num_style_layers = len(style_layers)\n",
        "    self.efnet.trainable = False\n",
        "\n",
        "  def call(self, inputs):\n",
        "    \"Expects float input in [0,1]\"\n",
        "    inputs = inputs*255.0\n",
        "    preprocessed_input = tf.keras.applications.efficientnet.preprocess_input(inputs)\n",
        "    outputs = self.efnet(preprocessed_input)\n",
        "    style_outputs, content_outputs = (outputs[:self.num_style_layers], \n",
        "                                      outputs[self.num_style_layers:])\n",
        "\n",
        "    style_outputs = [gram_matrix(style_output)\n",
        "                     for style_output in style_outputs]\n",
        "\n",
        "    content_dict = {content_name:value \n",
        "                    for content_name, value \n",
        "                    in zip(self.content_layers, content_outputs)}\n",
        "\n",
        "    style_dict = {style_name:value\n",
        "                  for style_name, value\n",
        "                  in zip(self.style_layers, style_outputs)}\n",
        "    \n",
        "    return {'content':content_dict, 'style':style_dict}"
      ],
      "execution_count": null,
      "outputs": []
    },
    {
      "cell_type": "markdown",
      "metadata": {
        "id": "EEbQY3WqLLzE",
        "colab_type": "text"
      },
      "source": [
        "**Initialization and Loss Functions**"
      ]
    },
    {
      "cell_type": "code",
      "metadata": {
        "id": "02e0KdWcgWOJ",
        "colab_type": "code",
        "colab": {}
      },
      "source": [
        "extractor = StyleContentModel(style_layers, content_layers)\n",
        "\n",
        "style_targets = extractor(style_image)['style']\n",
        "content_targets = extractor(content_image)['content']\n",
        "\n",
        "def style_content_loss(outputs):\n",
        "    style_outputs = outputs['style']\n",
        "    content_outputs = outputs['content']\n",
        "    style_loss = tf.add_n([tf.reduce_mean((style_outputs[name]-style_targets[name])**2) \n",
        "                           for name in style_outputs.keys()])\n",
        "    style_loss *= style_weight / num_style_layers\n",
        "\n",
        "    content_loss = tf.add_n([tf.reduce_mean((content_outputs[name]-content_targets[name])**2) \n",
        "                             for name in content_outputs.keys()])\n",
        "    content_loss *= content_weight / num_content_layers\n",
        "    loss = style_loss + content_loss\n",
        "    return loss\n",
        "\n",
        "@tf.function()\n",
        "def train_step(image):\n",
        "  with tf.GradientTape() as tape:\n",
        "    outputs = extractor(image)\n",
        "    loss = style_content_loss(outputs)\n",
        "    loss += total_variation_weight*tf.reduce_sum(tf.image.total_variation(image)) #tf.image.total_variation(image)\n",
        "\n",
        "  grad = tape.gradient(loss, image)\n",
        "  opt.apply_gradients([(grad, image)])\n",
        "  image.assign(clip_0_1(image))"
      ],
      "execution_count": null,
      "outputs": []
    },
    {
      "cell_type": "markdown",
      "metadata": {
        "id": "mKgphlRk-JBI",
        "colab_type": "text"
      },
      "source": [
        "**Weights and Optimizer**"
      ]
    },
    {
      "cell_type": "code",
      "metadata": {
        "id": "MhjeZs6kgWQy",
        "colab_type": "code",
        "colab": {}
      },
      "source": [
        "image = tf.Variable(content_image)\n",
        "opt = tf.optimizers.Adam(learning_rate=0.010, beta_1=0.99, epsilon=1e3)\n",
        "style_weight=2e8\n",
        "content_weight=5e3\n",
        "total_variation_weight=10\n",
        "tf.image.total_variation(image).numpy()\n"
      ],
      "execution_count": null,
      "outputs": []
    },
    {
      "cell_type": "markdown",
      "metadata": {
        "id": "weWZKTdO-Qmz",
        "colab_type": "text"
      },
      "source": [
        "**Process**"
      ]
    },
    {
      "cell_type": "code",
      "metadata": {
        "id": "LKI_4QHo7rSu",
        "colab_type": "code",
        "colab": {}
      },
      "source": [
        "import time\n",
        "start = time.time()\n",
        "\n",
        "epochs = 10\n",
        "steps_per_epoch = 100\n",
        "\n",
        "step = 0\n",
        "for n in range(epochs):\n",
        "  for m in range(steps_per_epoch):\n",
        "    step += 1\n",
        "    train_step(image)\n",
        "    print(\".\", end='')\n",
        "  display.clear_output(wait=True)\n",
        "  display.display(tensor_to_image(image))\n",
        "  print(\"Train step: {}\".format(step))\n",
        "\n",
        "end = time.time()\n",
        "print(\"Total time: {:.1f}\".format(end-start))"
      ],
      "execution_count": null,
      "outputs": []
    },
    {
      "cell_type": "markdown",
      "metadata": {
        "id": "gyXkEZrdEAzo",
        "colab_type": "text"
      },
      "source": [
        "**Result**"
      ]
    },
    {
      "cell_type": "code",
      "metadata": {
        "id": "3u00B2fr7WHD",
        "colab_type": "code",
        "colab": {}
      },
      "source": [
        "plt.subplot(1, 3, 1)\n",
        "imshow(content_image, 'Content Image')\n",
        "\n",
        "plt.subplot(1, 3, 2)\n",
        "imshow(style_image, 'Style Image')\n",
        "\n",
        "plt.subplot(1, 3, 3)\n",
        "imshow(image, 'Final Image')"
      ],
      "execution_count": null,
      "outputs": []
    },
    {
      "cell_type": "markdown",
      "metadata": {
        "id": "DUau0ms3EDl9",
        "colab_type": "text"
      },
      "source": [
        "**Save Result**"
      ]
    },
    {
      "cell_type": "code",
      "metadata": {
        "id": "aqNtkdV-gWTU",
        "colab_type": "code",
        "colab": {}
      },
      "source": [
        "file_name = 'stylized-image.png'\n",
        "tensor_to_image(image).save(file_name)\n",
        "\n",
        "try:\n",
        "  from google.colab import files\n",
        "except ImportError:\n",
        "   pass\n",
        "else:\n",
        "  files.download(file_name)"
      ],
      "execution_count": null,
      "outputs": []
    }
  ]
}
